{
 "cells": [
  {
   "cell_type": "markdown",
   "metadata": {},
   "source": [
    "# Notebook for feature extraction from the MOVIES\n",
    "\n",
    "The features that we want to extract are:\n",
    "- brightness\n",
    "- contrast\n",
    "- saturation\n",
    "- sound strength\n",
    "- music presence\n",
    "\n",
    "The features are extracted from the movies using the following methods:\n",
    "- **brightness**:\n",
    "    1. Divide the video in frames using: https://www.geeksforgeeks.org/python-program-extract-frames-using-opencv/\n",
    "    2. Convert the image to HSV color space (the Value channel is an approximation for brightness)\n",
    "    3. Sum up all the values of the pixels in the Value channel\n",
    "    4. Divide that brightness sum by the area of the image, which is just the width times the height.\n",
    "    5. This gave us one value: the average brightness of that image per each time stamp.\n",
    "- **contrast**:\n",
    "    1. Same as brightness just with contrast\n",
    "- **saturation**:\n",
    "    1. Same as brightness just with saturation\n",
    "- **sound strength**:\n",
    "    1. Follow: https://towardsdatascience.com/generate-any-sport-highlights-using-python-3695c98baead"
   ]
  },
  {
   "cell_type": "code",
   "execution_count": 2,
   "metadata": {},
   "outputs": [],
   "source": [
    "import cv2\n",
    "import numpy as np\n",
    "import pandas as pd\n",
    "import matplotlib.pyplot as plt\n",
    "import os"
   ]
  },
  {
   "cell_type": "markdown",
   "metadata": {},
   "source": [
    "### **BRIGHTNESS**\n",
    "\n",
    "1. Divide the video in frames using: https://www.geeksforgeeks.org/python-program-extract-frames-using-opencv/\n",
    "2. Convert the image to HSV color space (the Value channel is an approximation for brightness)\n",
    "3. Sum up all the values of the pixels in the Value channel\n",
    "4. Divide that brightness sum by the area of the image, which is just the width times the height.\n",
    "5. This gave us one value: the average brightness of that image per each time stamp."
   ]
  },
  {
   "cell_type": "code",
   "execution_count": 6,
   "metadata": {},
   "outputs": [
    {
     "data": {
      "text/plain": [
       "'/Users/silviaromanato/Desktop/ServerMIPLAB/FilmFiles/You_Again_exp.mp4'"
      ]
     },
     "execution_count": 6,
     "metadata": {},
     "output_type": "execute_result"
    }
   ],
   "source": [
    "PATH_MOVIES = '/Users/silviaromanato/Desktop/ServerMIPLAB/FilmFiles/'\n",
    "\n",
    "for movie_name in os.listdir(PATH_MOVIES):\n",
    "    MOVIE_PATH = PATH_MOVIES + movie_name\n",
    "    break\n",
    "MOVIE_PATH"
   ]
  },
  {
   "cell_type": "markdown",
   "metadata": {},
   "source": [
    "Extracting the frames from the first movie:"
   ]
  },
  {
   "cell_type": "code",
   "execution_count": 23,
   "metadata": {},
   "outputs": [],
   "source": [
    "def convert_to_hsv(image):\n",
    "    hsv_image = cv2.cvtColor(image, cv2.COLOR_BGR2HSV)\n",
    "    h, s, v = cv2.split(hsv_image)\n",
    "    return h, s, v\n",
    "\n",
    "average_brightness = []\n",
    "average_saturation = []\n",
    "def FrameCapture(MOVIE_PATH):\n",
    "    # Path to video file\n",
    "    vidObj = cv2.VideoCapture(MOVIE_PATH)\n",
    "\n",
    "    count = 0\n",
    "    success = 1\n",
    "\n",
    "    while success:\n",
    "        success, image = vidObj.read()\n",
    "        count += 1\n",
    "        h_channel, s_channel, v_channel = convert_to_hsv(image)        \n",
    "        sum_v = np.sum(v_channel)\n",
    "        sum_s = np.sum(s_channel)\n",
    "        height, width = v_channel.shape[:2]\n",
    "        total_pixels = width * height\n",
    "        average_brightness.append(sum_v / total_pixels)\n",
    "        average_saturation.append(sum_s / total_pixels)\n",
    "\n",
    "\n",
    "FrameCapture(MOVIE_PATH)\n",
    "\n",
    "print(average_brightness)\n",
    "print(average_saturation)"
   ]
  },
  {
   "cell_type": "markdown",
   "metadata": {},
   "source": [
    "### **SOUND STRENGTH**:\n",
    "Follow: https://towardsdatascience.com/generate-any-sport-highlights-using-python-3695c98baead"
   ]
  },
  {
   "cell_type": "code",
   "execution_count": null,
   "metadata": {},
   "outputs": [],
   "source": [
    "!pip install moviepy"
   ]
  },
  {
   "cell_type": "markdown",
   "metadata": {},
   "source": [
    "1. Extract the audio from the movie"
   ]
  },
  {
   "cell_type": "code",
   "execution_count": null,
   "metadata": {},
   "outputs": [],
   "source": [
    "import moviepy.editor as mp\n",
    "clip = mp.VideoFileClip(MOVIE_PATH).subclip(1, 1380)\n",
    "clip.audio.write_audiofile(\"/Users/silviaromanato/Desktop/SEMESTER_PROJECT/Audio/audioYouAgain.wav\")"
   ]
  },
  {
   "cell_type": "markdown",
   "metadata": {},
   "source": [
    "2. Create chunks from the audio"
   ]
  },
  {
   "cell_type": "code",
   "execution_count": null,
   "metadata": {},
   "outputs": [],
   "source": [
    "import librosa\n",
    "import IPython.display as ipd\n",
    "\n",
    "filename = \"filepath\\\\audio.wav\"\n",
    "# loading the file with a sampling rate\n",
    "x, sr = librosa.load(filename, sr=22050)\n",
    "# To get duration of the audio clip in minutes\n",
    "int(librosa.get_duration(x, sr) / 60)\n",
    "max_slice = 10\n",
    "window_length = max_slice * sr\n",
    "# Playing the audio chunk\n",
    "a = x[21 * window_length:22 * window_length]\n",
    "ipd.Audio(a, rate=sr)"
   ]
  },
  {
   "cell_type": "markdown",
   "metadata": {},
   "source": [
    "3. Compute the short time energy of the chunk <br> <br>\n",
    "\n",
    "The energy or power of an audio signal refers to the loudness of the sound. It is computed by the sum of the square of the amplitude of an audio signal in the time domain. When energy is computed for a chunk of an entire audio signal, then it is known as Short Time Energy."
   ]
  },
  {
   "cell_type": "code",
   "execution_count": null,
   "metadata": {},
   "outputs": [],
   "source": [
    "import numpy as np\n",
    "s_energy = np.array([sum(abs(x[i:i + window_length] ** 2)) for i in range(0, len(x), window_length)])\n",
    "\n",
    "\n",
    "import matplotlib.pyplot as plt\n",
    "plt.hist(s_energy)\n",
    "plt.show()"
   ]
  }
 ],
 "metadata": {
  "kernelspec": {
   "display_name": "silviasenv",
   "language": "python",
   "name": "python3"
  },
  "language_info": {
   "codemirror_mode": {
    "name": "ipython",
    "version": 3
   },
   "file_extension": ".py",
   "mimetype": "text/x-python",
   "name": "python",
   "nbconvert_exporter": "python",
   "pygments_lexer": "ipython3",
   "version": "3.9.16"
  },
  "orig_nbformat": 4
 },
 "nbformat": 4,
 "nbformat_minor": 2
}
