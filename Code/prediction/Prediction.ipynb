{
 "cells": [
  {
   "cell_type": "code",
   "execution_count": 9,
   "metadata": {},
   "outputs": [],
   "source": [
    "import numpy as np\n",
    "import pandas as pd\n",
    "import matplotlib.pyplot as plt\n",
    "import seaborn as sns\n",
    "import os\n",
    "import sklearn\n",
    "\n",
    "\n",
    "# make sure the current path is Code/\n",
    "os.chdir('..')\n",
    "from PLS_Silvia.helpers_PLS import *"
   ]
  },
  {
   "cell_type": "markdown",
   "metadata": {},
   "source": [
    "# **Predicting using FMRI data the behavior**\n",
    "\n",
    "The idea is to use some data in order to predict the behavior. <br>\n",
    "\n",
    "The first step that will be implemented will be to take each of the big5 and perform CPM on 1 single movie on bold and the other higher level info. "
   ]
  },
  {
   "cell_type": "markdown",
   "metadata": {},
   "source": [
    "### **CPM, 1 Big Five and 1 single film, BOLD and triangles**\n",
    "\n",
    "**STEPS:**\n",
    "1. Load and Preprocess the Data: \n",
    "- Load your connectome data and the behavioral feature.\n",
    "- Normalize or standardize your data as necessary.\n",
    "2. Feature Selection:\n",
    "- Calculate the correlation between each connectivity feature and the behavioral variable.\n",
    "- Select features (edges) with a correlation above a certain threshold.\n",
    "3. Model Building:\n",
    "- Divide your data into a training set and a test set.\n",
    "- Use the selected features to build a predictive model (e.g., linear regression) on the training set.\n",
    "4. Validation:\n",
    "- Evaluate the model on the test set.\n",
    "- Calculate prediction accuracy, using metrics like correlation or mean squared error between predicted and actual behavioral scores.\n",
    "5. Cross-Validation:\n",
    "- Implement cross-validation to ensure that your model is robust and generalizes well to new data."
   ]
  },
  {
   "cell_type": "code",
   "execution_count": 10,
   "metadata": {},
   "outputs": [],
   "source": [
    "list_movies = ['AfterTheRain', 'BetweenViewings', 'BigBuckBunny', 'Chatter', 'FirstBite', 'LessonLearned', 'Payload', 'Rest', 'Sintel', 'Spaceman', 'Superhero', 'TearsOfSteel', 'TheSecretNumber', 'ToClaireFromSonny', 'YouAgain']"
   ]
  },
  {
   "cell_type": "code",
   "execution_count": 101,
   "metadata": {},
   "outputs": [],
   "source": [
    "# Load the Y behavioural data\n",
    "PATH_DATA = '/Users/silviaromanato/Desktop/SEMESTER_PROJECT/HigherOrder/Data/'\n",
    "columns = ['BIG5_ext', 'BIG5_agr', 'BIG5_con', 'BIG5_neu', 'BIG5_ope']\n",
    "\n",
    "Y = pd.read_csv(PATH_DATA + 'participants.tsv', sep='\\t', header=0)[columns]\n",
    "extrovercy = Y['BIG5_ext']\n",
    "agreeableness = Y['BIG5_agr']\n",
    "conscientiousness = Y['BIG5_con']\n",
    "neuroticism = Y['BIG5_neu']\n",
    "openness = Y['BIG5_ope']\n",
    "\n",
    "# Normalize the data\n",
    "extrovercy = (extrovercy - extrovercy.mean()) / extrovercy.std()\n",
    "agreeableness = (agreeableness - agreeableness.mean()) / agreeableness.std()\n",
    "conscientiousness = (conscientiousness - conscientiousness.mean()) / conscientiousness.std()\n",
    "neuroticism = (neuroticism - neuroticism.mean()) / neuroticism.std()\n",
    "openness = (openness - openness.mean()) / openness.std()"
   ]
  },
  {
   "cell_type": "code",
   "execution_count": 106,
   "metadata": {},
   "outputs": [
    {
     "name": "stdout",
     "output_type": "stream",
     "text": [
      "The shape of X for BOLD is:  (30, 6441)\n",
      "The shape of X for BOLD is:  (30, 6441)\n",
      "The connectivity matrices for BOLD are:  30 (114, 114)\n"
     ]
    }
   ],
   "source": [
    "PATH_YEO = '/Users/silviaromanato/Desktop/SEMESTER_PROJECT/HigherOrder/Data/yeo_RS7_Schaefer100S.mat'\n",
    "\n",
    "def compute_X(PATH, movie, method, regions = None):\n",
    "    yeo_dict = loading_yeo(PATH_YEO)\n",
    "    yeo_indices = yeo_dict[regions] if regions != 'ALL' else None\n",
    "    N = 114 if regions == 'ALL' else len(yeo_indices)\n",
    "\n",
    "    if method == 'bold':\n",
    "        list_subjects = []\n",
    "        for i in glob.glob(PATH+'*'):\n",
    "            if (i.split('/')[-1].split('-')[0] == 'TC_114_sub') & (i.split('/')[-1].split('-')[1].endswith(f'{movie}.txt')):\n",
    "                list_subjects.append(i)\n",
    "        mtx_upper_triangular = []\n",
    "        for i, PATH_SUBJ in enumerate(list_subjects):\n",
    "            data_feature = pd.read_csv(PATH_SUBJ, sep=' ', header=None)\n",
    "            if regions == 'ALL':\n",
    "                connectivity_matrix = np.corrcoef(data_feature, rowvar=False)\n",
    "            else:\n",
    "                connectivity_matrix = np.corrcoef(data_feature, rowvar=False)[:,yeo_indices]\n",
    "            upper_triangular = connectivity_matrix[np.triu_indices_from(connectivity_matrix, k=1)]\n",
    "            mtx_upper_triangular.append(upper_triangular)\n",
    "        mtx_upper_triangular = np.array(mtx_upper_triangular)\n",
    "        X = pd.DataFrame(mtx_upper_triangular)\n",
    "        print('The shape of X for BOLD is: ', X.shape)\n",
    "\n",
    "    return X\n",
    "\n",
    "X_atr = {}\n",
    "for method in ['bold']: #'scaffold', 'edges', 'triangles']:\n",
    "    PATH_DATA = '/Users/silviaromanato/Desktop/SEMESTER_PROJECT/HigherOrder/Data/Data_TC/'\n",
    "    movie = 'AfterTheRain'\n",
    "    X = compute_X(PATH_DATA, movie, method, regions = 'ALL')\n",
    "\n",
    "print('The shape of X for BOLD is: ', X.shape)"
   ]
  },
  {
   "cell_type": "code",
   "execution_count": 104,
   "metadata": {},
   "outputs": [
    {
     "name": "stdout",
     "output_type": "stream",
     "text": [
      "\n",
      "Leaving out subj # 01.000\n"
     ]
    },
    {
     "name": "stderr",
     "output_type": "stream",
     "text": [
      "/Users/silviaromanato/.conda/envs/silviasenv/lib/python3.9/site-packages/scipy/stats/_stats_py.py:4847: NearConstantInputWarning: An input array is nearly constant; the computed correlation coefficient may be inaccurate.\n",
      "  warnings.warn(stats.NearConstantInputWarning(msg))\n"
     ]
    },
    {
     "name": "stdout",
     "output_type": "stream",
     "text": [
      "This iteration took: 00.219 minutes and 13.117 seconds\n",
      "\n",
      "Leaving out subj # 02.000\n"
     ]
    },
    {
     "name": "stderr",
     "output_type": "stream",
     "text": [
      "/Users/silviaromanato/.conda/envs/silviasenv/lib/python3.9/site-packages/scipy/stats/_stats_py.py:4847: NearConstantInputWarning: An input array is nearly constant; the computed correlation coefficient may be inaccurate.\n",
      "  warnings.warn(stats.NearConstantInputWarning(msg))\n"
     ]
    },
    {
     "name": "stdout",
     "output_type": "stream",
     "text": [
      "This iteration took: 00.191 minutes and 11.482 seconds\n",
      "\n",
      "Leaving out subj # 03.000\n"
     ]
    },
    {
     "name": "stderr",
     "output_type": "stream",
     "text": [
      "/Users/silviaromanato/.conda/envs/silviasenv/lib/python3.9/site-packages/scipy/stats/_stats_py.py:4847: NearConstantInputWarning: An input array is nearly constant; the computed correlation coefficient may be inaccurate.\n",
      "  warnings.warn(stats.NearConstantInputWarning(msg))\n"
     ]
    },
    {
     "name": "stdout",
     "output_type": "stream",
     "text": [
      "This iteration took: 00.185 minutes and 11.124 seconds\n",
      "\n",
      "Leaving out subj # 04.000\n"
     ]
    },
    {
     "name": "stderr",
     "output_type": "stream",
     "text": [
      "/Users/silviaromanato/.conda/envs/silviasenv/lib/python3.9/site-packages/scipy/stats/_stats_py.py:4847: NearConstantInputWarning: An input array is nearly constant; the computed correlation coefficient may be inaccurate.\n",
      "  warnings.warn(stats.NearConstantInputWarning(msg))\n"
     ]
    },
    {
     "name": "stdout",
     "output_type": "stream",
     "text": [
      "This iteration took: 00.198 minutes and 11.879 seconds\n",
      "\n",
      "Leaving out subj # 05.000\n"
     ]
    },
    {
     "name": "stderr",
     "output_type": "stream",
     "text": [
      "/Users/silviaromanato/.conda/envs/silviasenv/lib/python3.9/site-packages/scipy/stats/_stats_py.py:4847: NearConstantInputWarning: An input array is nearly constant; the computed correlation coefficient may be inaccurate.\n",
      "  warnings.warn(stats.NearConstantInputWarning(msg))\n"
     ]
    },
    {
     "name": "stdout",
     "output_type": "stream",
     "text": [
      "This iteration took: 00.208 minutes and 12.456 seconds\n",
      "\n",
      "Leaving out subj # 06.000\n"
     ]
    },
    {
     "name": "stderr",
     "output_type": "stream",
     "text": [
      "/Users/silviaromanato/.conda/envs/silviasenv/lib/python3.9/site-packages/scipy/stats/_stats_py.py:4847: NearConstantInputWarning: An input array is nearly constant; the computed correlation coefficient may be inaccurate.\n",
      "  warnings.warn(stats.NearConstantInputWarning(msg))\n",
      "/Users/silviaromanato/.conda/envs/silviasenv/lib/python3.9/site-packages/scipy/stats/_stats_py.py:4781: ConstantInputWarning: An input array is constant; the correlation coefficient is not defined.\n",
      "  warnings.warn(stats.ConstantInputWarning(msg))\n"
     ]
    },
    {
     "name": "stdout",
     "output_type": "stream",
     "text": [
      "This iteration took: 00.203 minutes and 12.195 seconds\n",
      "\n",
      "Leaving out subj # 07.000\n"
     ]
    },
    {
     "name": "stderr",
     "output_type": "stream",
     "text": [
      "/Users/silviaromanato/.conda/envs/silviasenv/lib/python3.9/site-packages/scipy/stats/_stats_py.py:4847: NearConstantInputWarning: An input array is nearly constant; the computed correlation coefficient may be inaccurate.\n",
      "  warnings.warn(stats.NearConstantInputWarning(msg))\n"
     ]
    },
    {
     "name": "stdout",
     "output_type": "stream",
     "text": [
      "This iteration took: 00.211 minutes and 12.660 seconds\n",
      "\n",
      "Leaving out subj # 08.000\n"
     ]
    },
    {
     "name": "stderr",
     "output_type": "stream",
     "text": [
      "/Users/silviaromanato/.conda/envs/silviasenv/lib/python3.9/site-packages/scipy/stats/_stats_py.py:4847: NearConstantInputWarning: An input array is nearly constant; the computed correlation coefficient may be inaccurate.\n",
      "  warnings.warn(stats.NearConstantInputWarning(msg))\n"
     ]
    },
    {
     "name": "stdout",
     "output_type": "stream",
     "text": [
      "This iteration took: 00.204 minutes and 12.249 seconds\n",
      "\n",
      "Leaving out subj # 09.000\n"
     ]
    },
    {
     "name": "stderr",
     "output_type": "stream",
     "text": [
      "/Users/silviaromanato/.conda/envs/silviasenv/lib/python3.9/site-packages/scipy/stats/_stats_py.py:4847: NearConstantInputWarning: An input array is nearly constant; the computed correlation coefficient may be inaccurate.\n",
      "  warnings.warn(stats.NearConstantInputWarning(msg))\n"
     ]
    },
    {
     "name": "stdout",
     "output_type": "stream",
     "text": [
      "This iteration took: 00.209 minutes and 12.549 seconds\n",
      "\n",
      "Leaving out subj # 10.000\n"
     ]
    },
    {
     "name": "stderr",
     "output_type": "stream",
     "text": [
      "/Users/silviaromanato/.conda/envs/silviasenv/lib/python3.9/site-packages/scipy/stats/_stats_py.py:4847: NearConstantInputWarning: An input array is nearly constant; the computed correlation coefficient may be inaccurate.\n",
      "  warnings.warn(stats.NearConstantInputWarning(msg))\n"
     ]
    },
    {
     "name": "stdout",
     "output_type": "stream",
     "text": [
      "This iteration took: 00.208 minutes and 12.476 seconds\n",
      "\n",
      "Leaving out subj # 11.000\n"
     ]
    },
    {
     "name": "stderr",
     "output_type": "stream",
     "text": [
      "/Users/silviaromanato/.conda/envs/silviasenv/lib/python3.9/site-packages/scipy/stats/_stats_py.py:4847: NearConstantInputWarning: An input array is nearly constant; the computed correlation coefficient may be inaccurate.\n",
      "  warnings.warn(stats.NearConstantInputWarning(msg))\n"
     ]
    },
    {
     "name": "stdout",
     "output_type": "stream",
     "text": [
      "This iteration took: 00.192 minutes and 11.525 seconds\n",
      "\n",
      "Leaving out subj # 12.000\n"
     ]
    },
    {
     "name": "stderr",
     "output_type": "stream",
     "text": [
      "/Users/silviaromanato/.conda/envs/silviasenv/lib/python3.9/site-packages/scipy/stats/_stats_py.py:4847: NearConstantInputWarning: An input array is nearly constant; the computed correlation coefficient may be inaccurate.\n",
      "  warnings.warn(stats.NearConstantInputWarning(msg))\n"
     ]
    },
    {
     "name": "stdout",
     "output_type": "stream",
     "text": [
      "This iteration took: 00.212 minutes and 12.690 seconds\n",
      "\n",
      "Leaving out subj # 13.000\n"
     ]
    },
    {
     "name": "stderr",
     "output_type": "stream",
     "text": [
      "/Users/silviaromanato/.conda/envs/silviasenv/lib/python3.9/site-packages/scipy/stats/_stats_py.py:4847: NearConstantInputWarning: An input array is nearly constant; the computed correlation coefficient may be inaccurate.\n",
      "  warnings.warn(stats.NearConstantInputWarning(msg))\n"
     ]
    },
    {
     "name": "stdout",
     "output_type": "stream",
     "text": [
      "This iteration took: 00.207 minutes and 12.443 seconds\n",
      "\n",
      "Leaving out subj # 14.000\n"
     ]
    },
    {
     "name": "stderr",
     "output_type": "stream",
     "text": [
      "/Users/silviaromanato/.conda/envs/silviasenv/lib/python3.9/site-packages/scipy/stats/_stats_py.py:4847: NearConstantInputWarning: An input array is nearly constant; the computed correlation coefficient may be inaccurate.\n",
      "  warnings.warn(stats.NearConstantInputWarning(msg))\n"
     ]
    },
    {
     "name": "stdout",
     "output_type": "stream",
     "text": [
      "This iteration took: 00.220 minutes and 13.172 seconds\n",
      "\n",
      "Leaving out subj # 15.000\n"
     ]
    },
    {
     "name": "stderr",
     "output_type": "stream",
     "text": [
      "/Users/silviaromanato/.conda/envs/silviasenv/lib/python3.9/site-packages/scipy/stats/_stats_py.py:4847: NearConstantInputWarning: An input array is nearly constant; the computed correlation coefficient may be inaccurate.\n",
      "  warnings.warn(stats.NearConstantInputWarning(msg))\n"
     ]
    },
    {
     "name": "stdout",
     "output_type": "stream",
     "text": [
      "This iteration took: 00.246 minutes and 14.776 seconds\n",
      "\n",
      "Leaving out subj # 16.000\n"
     ]
    },
    {
     "name": "stderr",
     "output_type": "stream",
     "text": [
      "/Users/silviaromanato/.conda/envs/silviasenv/lib/python3.9/site-packages/scipy/stats/_stats_py.py:4847: NearConstantInputWarning: An input array is nearly constant; the computed correlation coefficient may be inaccurate.\n",
      "  warnings.warn(stats.NearConstantInputWarning(msg))\n"
     ]
    },
    {
     "name": "stdout",
     "output_type": "stream",
     "text": [
      "This iteration took: 00.229 minutes and 13.725 seconds\n",
      "\n",
      "Leaving out subj # 17.000\n"
     ]
    },
    {
     "name": "stderr",
     "output_type": "stream",
     "text": [
      "/Users/silviaromanato/.conda/envs/silviasenv/lib/python3.9/site-packages/scipy/stats/_stats_py.py:4847: NearConstantInputWarning: An input array is nearly constant; the computed correlation coefficient may be inaccurate.\n",
      "  warnings.warn(stats.NearConstantInputWarning(msg))\n",
      "/Users/silviaromanato/.conda/envs/silviasenv/lib/python3.9/site-packages/scipy/stats/_stats_py.py:4781: ConstantInputWarning: An input array is constant; the correlation coefficient is not defined.\n",
      "  warnings.warn(stats.ConstantInputWarning(msg))\n"
     ]
    },
    {
     "name": "stdout",
     "output_type": "stream",
     "text": [
      "This iteration took: 00.256 minutes and 15.375 seconds\n",
      "\n",
      "Leaving out subj # 18.000\n"
     ]
    },
    {
     "name": "stderr",
     "output_type": "stream",
     "text": [
      "/Users/silviaromanato/.conda/envs/silviasenv/lib/python3.9/site-packages/scipy/stats/_stats_py.py:4847: NearConstantInputWarning: An input array is nearly constant; the computed correlation coefficient may be inaccurate.\n",
      "  warnings.warn(stats.NearConstantInputWarning(msg))\n"
     ]
    },
    {
     "name": "stdout",
     "output_type": "stream",
     "text": [
      "This iteration took: 00.204 minutes and 12.235 seconds\n",
      "\n",
      "Leaving out subj # 19.000\n"
     ]
    },
    {
     "name": "stderr",
     "output_type": "stream",
     "text": [
      "/Users/silviaromanato/.conda/envs/silviasenv/lib/python3.9/site-packages/scipy/stats/_stats_py.py:4847: NearConstantInputWarning: An input array is nearly constant; the computed correlation coefficient may be inaccurate.\n",
      "  warnings.warn(stats.NearConstantInputWarning(msg))\n"
     ]
    },
    {
     "name": "stdout",
     "output_type": "stream",
     "text": [
      "This iteration took: 00.232 minutes and 13.918 seconds\n",
      "\n",
      "Leaving out subj # 20.000\n"
     ]
    },
    {
     "name": "stderr",
     "output_type": "stream",
     "text": [
      "/Users/silviaromanato/.conda/envs/silviasenv/lib/python3.9/site-packages/scipy/stats/_stats_py.py:4847: NearConstantInputWarning: An input array is nearly constant; the computed correlation coefficient may be inaccurate.\n",
      "  warnings.warn(stats.NearConstantInputWarning(msg))\n"
     ]
    },
    {
     "name": "stdout",
     "output_type": "stream",
     "text": [
      "This iteration took: 00.219 minutes and 13.117 seconds\n",
      "\n",
      "Leaving out subj # 21.000\n"
     ]
    },
    {
     "name": "stderr",
     "output_type": "stream",
     "text": [
      "/Users/silviaromanato/.conda/envs/silviasenv/lib/python3.9/site-packages/scipy/stats/_stats_py.py:4847: NearConstantInputWarning: An input array is nearly constant; the computed correlation coefficient may be inaccurate.\n",
      "  warnings.warn(stats.NearConstantInputWarning(msg))\n"
     ]
    },
    {
     "name": "stdout",
     "output_type": "stream",
     "text": [
      "This iteration took: 00.220 minutes and 13.196 seconds\n",
      "\n",
      "Leaving out subj # 22.000\n"
     ]
    },
    {
     "name": "stderr",
     "output_type": "stream",
     "text": [
      "/Users/silviaromanato/.conda/envs/silviasenv/lib/python3.9/site-packages/scipy/stats/_stats_py.py:4847: NearConstantInputWarning: An input array is nearly constant; the computed correlation coefficient may be inaccurate.\n",
      "  warnings.warn(stats.NearConstantInputWarning(msg))\n"
     ]
    },
    {
     "name": "stdout",
     "output_type": "stream",
     "text": [
      "This iteration took: 00.211 minutes and 12.646 seconds\n",
      "\n",
      "Leaving out subj # 23.000\n"
     ]
    },
    {
     "name": "stderr",
     "output_type": "stream",
     "text": [
      "/Users/silviaromanato/.conda/envs/silviasenv/lib/python3.9/site-packages/scipy/stats/_stats_py.py:4847: NearConstantInputWarning: An input array is nearly constant; the computed correlation coefficient may be inaccurate.\n",
      "  warnings.warn(stats.NearConstantInputWarning(msg))\n"
     ]
    },
    {
     "name": "stdout",
     "output_type": "stream",
     "text": [
      "This iteration took: 00.202 minutes and 12.133 seconds\n",
      "\n",
      "Leaving out subj # 24.000\n"
     ]
    },
    {
     "name": "stderr",
     "output_type": "stream",
     "text": [
      "/Users/silviaromanato/.conda/envs/silviasenv/lib/python3.9/site-packages/scipy/stats/_stats_py.py:4847: NearConstantInputWarning: An input array is nearly constant; the computed correlation coefficient may be inaccurate.\n",
      "  warnings.warn(stats.NearConstantInputWarning(msg))\n"
     ]
    },
    {
     "name": "stdout",
     "output_type": "stream",
     "text": [
      "This iteration took: 00.234 minutes and 14.058 seconds\n"
     ]
    },
    {
     "data": {
      "image/png": "[encoded data removed]",
      "text/plain": [
       "<Figure size 1000x400 with 2 Axes>"
      ]
     },
     "metadata": {},
     "output_type": "display_data"
    },
    {
     "data": {
      "text/plain": [
       "(PearsonRResult(statistic=-0.228270439050515, pvalue=0.283343595759725),\n",
       " PearsonRResult(statistic=-0.531731526994521, pvalue=0.007491033984099086))"
      ]
     },
     "execution_count": 104,
     "metadata": {},
     "output_type": "execute_result"
    }
   ],
   "source": [
    "import time\n",
    "from sklearn.linear_model import LinearRegression\n",
    "from sklearn.model_selection import train_test_split\n",
    "\n",
    "# CPM Function\n",
    "def cpm(X_train, y_train, threshold):\n",
    "    # 1. INPUTS: Divide the data into training and test sets\n",
    "    M, N = 114, X_train.shape[0] \n",
    "    all_mats, all_behav = X_train, y_train\n",
    "\n",
    "    # Preallocate prediction arrays\n",
    "    behav_pred_pos = np.zeros((N, 1))\n",
    "    behav_pred_neg = np.zeros((N, 1))\n",
    "    \n",
    "    # 2. CROSS VALIDATION: Perform leave-one-out procedure\n",
    "    for leftout in range(N):\n",
    "        print(f'\\nLeaving out subj # {leftout + 1:06.3f}')\n",
    "        start = time.time()\n",
    "\n",
    "        # Leave out subject from matrices and behavior\n",
    "        train_mats = np.delete(all_mats, leftout, axis=0)\n",
    "        train_behav = np.delete(all_behav, leftout, axis=0)\n",
    "\n",
    "        # 3. RELATE EDGES: Correlate all edges with behavior\n",
    "        r_mat = np.zeros((M, M))\n",
    "        p_mat = np.zeros((M, M))\n",
    "\n",
    "        for i in range(M):\n",
    "            for j in range(M):\n",
    "                r, p = scipy.stats.pearsonr(train_mats[:, j, i], train_behav[:])\n",
    "                r_mat[i, j] = r\n",
    "                p_mat[i, j] = p\n",
    "\n",
    "        # 4. EDGE SELECTION: Set threshold and define masks\n",
    "        pos_mask = np.multiply(p_mat < threshold, r_mat > 0)\n",
    "        neg_mask = np.multiply(p_mat < threshold, r_mat < 0)\n",
    "\n",
    "        # 5. SINGLE SUBJ SUMMARY VALUES: Compute sum scores\n",
    "        behav_sum_pos = np.zeros((N - 1, 1))\n",
    "        behav_sum_neg = np.zeros((N - 1, 1))\n",
    "\n",
    "        # Divide by two to control for the fact that we're counting each pair twice because the matrix is symmetric\n",
    "        for i in range(N - 1):\n",
    "            behav_sum_pos[i] = np.sum(np.multiply(train_mats[i, :, :], pos_mask)) / 2\n",
    "            behav_sum_neg[i] = np.sum(np.multiply(train_mats[i, :, :], neg_mask)) / 2\n",
    "\n",
    "        # 6. MODEL FITTING: Fit model on training set\n",
    "        lin_model_pos = LinearRegression()\n",
    "        lin_model_pos.fit(behav_sum_pos, train_behav)\n",
    "\n",
    "        lin_model_neg = LinearRegression()\n",
    "        lin_model_neg.fit(behav_sum_neg, train_behav)\n",
    "\n",
    "        # 7. PREDICTION: Predict on left-out subject\n",
    "        # Extract sum scores for left-out subject\n",
    "        leftout_sum_pos = np.sum(np.multiply(all_mats[leftout, :, :], pos_mask)) / 2\n",
    "        leftout_sum_neg = np.sum(np.multiply(all_mats[leftout, :, :], neg_mask)) / 2\n",
    "        leftout_sum_pos = leftout_sum_pos.reshape(1,1)\n",
    "        leftout_sum_neg = leftout_sum_neg.reshape(1,1)\n",
    "\n",
    "        # Predict behavior for left-out subject\n",
    "        behav_pred_pos[leftout] = lin_model_pos.predict(leftout_sum_pos)\n",
    "        behav_pred_neg[leftout] = lin_model_neg.predict(leftout_sum_neg)\n",
    "\n",
    "        end = time.time()\n",
    "        minutes = (end - start) / 60\n",
    "        seconds = (end - start) % 60\n",
    "\n",
    "        print(f'This iteration took: {minutes:06.3f} minutes and {seconds:06.3f} seconds')\n",
    "\n",
    "    # 8. EVALUATION: Compute correlations between predicted and observed behavior\n",
    "    behav_pred_corr_pos = scipy.stats.pearsonr(all_behav, behav_pred_pos[:, 0])\n",
    "    behav_pred_corr_neg = scipy.stats.pearsonr(all_behav, behav_pred_neg[:, 0])\n",
    "\n",
    "    # 9. VISUALIZATION: Make a pretty figure\n",
    "    plt.figure(figsize=(10, 4))\n",
    "    plt.subplot(1, 2, 1)\n",
    "    plt.scatter(all_behav, behav_pred_pos)\n",
    "    plt.xlabel('Observed behavior')\n",
    "    plt.ylabel('Predicted behavior')\n",
    "    plt.title('Positive edges')\n",
    "    plt.subplot(1, 2, 2)\n",
    "    plt.scatter(all_behav, behav_pred_neg)\n",
    "    plt.xlabel('Observed behavior')\n",
    "    plt.ylabel('Predicted behavior')\n",
    "    plt.title('Negative edges')\n",
    "    plt.tight_layout()\n",
    "    plt.show()\n",
    "\n",
    "    return behav_pred_corr_neg, behav_pred_corr_pos\n",
    "\n",
    "threshold = 0.01\n",
    "\n",
    "connectivity_matrices = np.array(connectivity_matrices)\n",
    "X_train, X_test, y_train, y_test = train_test_split(connectivity_matrices, extrovercy, test_size=0.2, random_state=0)\n",
    "\n",
    "# compute the CPM\n",
    "cpm(X_train, y_train, threshold)"
   ]
  },
  {
   "cell_type": "code",
   "execution_count": 122,
   "metadata": {},
   "outputs": [
    {
     "name": "stdout",
     "output_type": "stream",
     "text": [
      "\n",
      "Leaving out subj # 01.000\n",
      "This iteration took: 00.128 minutes and 07.689 seconds\n",
      "\n",
      "Leaving out subj # 02.000\n",
      "This iteration took: 00.105 minutes and 06.320 seconds\n",
      "\n",
      "Leaving out subj # 03.000\n",
      "This iteration took: 00.131 minutes and 07.867 seconds\n",
      "\n",
      "Leaving out subj # 04.000\n",
      "This iteration took: 00.169 minutes and 10.117 seconds\n",
      "\n",
      "Leaving out subj # 05.000\n",
      "This iteration took: 00.117 minutes and 07.048 seconds\n",
      "\n",
      "Leaving out subj # 06.000\n",
      "This iteration took: 00.178 minutes and 10.673 seconds\n",
      "\n",
      "Leaving out subj # 07.000\n",
      "This iteration took: 00.110 minutes and 06.585 seconds\n",
      "\n",
      "Leaving out subj # 08.000\n",
      "This iteration took: 00.111 minutes and 06.669 seconds\n",
      "\n",
      "Leaving out subj # 09.000\n",
      "This iteration took: 00.107 minutes and 06.426 seconds\n",
      "\n",
      "Leaving out subj # 10.000\n",
      "This iteration took: 00.136 minutes and 08.147 seconds\n",
      "\n",
      "Leaving out subj # 11.000\n",
      "This iteration took: 00.098 minutes and 05.853 seconds\n",
      "\n",
      "Leaving out subj # 12.000\n",
      "This iteration took: 00.124 minutes and 07.415 seconds\n",
      "\n",
      "Leaving out subj # 13.000\n",
      "This iteration took: 00.113 minutes and 06.807 seconds\n",
      "\n",
      "Leaving out subj # 14.000\n",
      "This iteration took: 00.091 minutes and 05.483 seconds\n",
      "\n",
      "Leaving out subj # 15.000\n",
      "This iteration took: 00.109 minutes and 06.528 seconds\n",
      "\n",
      "Leaving out subj # 16.000\n",
      "This iteration took: 00.120 minutes and 07.188 seconds\n",
      "\n",
      "Leaving out subj # 17.000\n",
      "This iteration took: 00.128 minutes and 07.700 seconds\n",
      "\n",
      "Leaving out subj # 18.000\n",
      "This iteration took: 00.107 minutes and 06.404 seconds\n",
      "\n",
      "Leaving out subj # 19.000\n",
      "This iteration took: 00.108 minutes and 06.455 seconds\n",
      "\n",
      "Leaving out subj # 20.000\n",
      "This iteration took: 00.093 minutes and 05.594 seconds\n",
      "\n",
      "Leaving out subj # 21.000\n",
      "This iteration took: 00.108 minutes and 06.507 seconds\n",
      "\n",
      "Leaving out subj # 22.000\n",
      "This iteration took: 00.125 minutes and 07.478 seconds\n",
      "\n",
      "Leaving out subj # 23.000\n",
      "This iteration took: 00.116 minutes and 06.934 seconds\n",
      "\n",
      "Leaving out subj # 24.000\n",
      "This iteration took: 00.106 minutes and 06.382 seconds\n",
      "\n",
      "Leaving out subj # 25.000\n",
      "This iteration took: 00.102 minutes and 06.143 seconds\n",
      "\n",
      "Leaving out subj # 26.000\n",
      "This iteration took: 00.097 minutes and 05.803 seconds\n",
      "\n",
      "Leaving out subj # 27.000\n",
      "This iteration took: 00.136 minutes and 08.167 seconds\n",
      "\n",
      "Leaving out subj # 28.000\n",
      "This iteration took: 00.117 minutes and 07.034 seconds\n",
      "\n",
      "Leaving out subj # 29.000\n",
      "This iteration took: 00.138 minutes and 08.252 seconds\n",
      "\n",
      "Leaving out subj # 30.000\n",
      "This iteration took: 00.108 minutes and 06.484 seconds\n"
     ]
    },
    {
     "data": {
      "image/png": "[encoded data removed]",
      "text/plain": [
       "<Figure size 1000x400 with 2 Axes>"
      ]
     },
     "metadata": {},
     "output_type": "display_data"
    },
    {
     "data": {
      "text/plain": [
       "(PearsonRResult(statistic=-0.352532198320799, pvalue=0.056042389996179096),\n",
       " PearsonRResult(statistic=-0.09720659221346448, pvalue=0.6093427053047679))"
      ]
     },
     "execution_count": 122,
     "metadata": {},
     "output_type": "execute_result"
    }
   ],
   "source": [
    "import time\n",
    "from sklearn.linear_model import LinearRegression\n",
    "from sklearn.model_selection import train_test_split\n",
    "\n",
    "# CPM Function\n",
    "def cpm(X_train, y_train, threshold):\n",
    "    # 1. INPUTS: Divide the data into training and test sets\n",
    "    M, N = X_train.shape[1], X_train.shape[0] \n",
    "    all_mats, all_behav = X_train, y_train\n",
    "    all_mats = np.array(all_mats)\n",
    "    all_behav = np.array(all_behav)\n",
    "\n",
    "    # Preallocate prediction arrays\n",
    "    behav_pred_pos = np.zeros((N, 1))\n",
    "    behav_pred_neg = np.zeros((N, 1))\n",
    "    \n",
    "    # 2. CROSS VALIDATION: Perform leave-one-out procedure\n",
    "    for leftout in range(N):\n",
    "        print(f'\\nLeaving out subj # {leftout + 1:06.3f}')\n",
    "        start = time.time()\n",
    "\n",
    "        # Leave out subject from matrices and behavior\n",
    "        train_mats = np.delete(all_mats, leftout, axis=0)\n",
    "        train_behav = np.delete(all_behav, leftout, axis=0)\n",
    "\n",
    "        # 3. RELATE EDGES: Correlate all edges with behavior\n",
    "        r_mat = np.zeros((M))\n",
    "        p_mat = np.zeros((M))\n",
    "\n",
    "        for i in range(M):\n",
    "            r, p = scipy.stats.pearsonr(train_mats[:, i], train_behav[:])\n",
    "            r_mat[i] = r\n",
    "            p_mat[i] = p\n",
    "\n",
    "        # 4. EDGE SELECTION: Set threshold and define masks\n",
    "        pos_mask = np.multiply(p_mat < threshold, r_mat > 0)\n",
    "        neg_mask = np.multiply(p_mat < threshold, r_mat < 0)\n",
    "\n",
    "        # 5. SINGLE SUBJ SUMMARY VALUES: Compute sum scores\n",
    "        behav_sum_pos = np.zeros((N - 1, 1))\n",
    "        behav_sum_neg = np.zeros((N - 1, 1))\n",
    "\n",
    "        # Divide by two to control for the fact that we're counting each pair twice because the matrix is symmetric\n",
    "        for i in range(N - 1):\n",
    "            behav_sum_pos[i] = np.sum(np.multiply(train_mats[i, :], pos_mask))\n",
    "            behav_sum_neg[i] = np.sum(np.multiply(train_mats[i, :], neg_mask))\n",
    "\n",
    "        # 6. MODEL FITTING: Fit model on training set\n",
    "        lin_model_pos = LinearRegression()\n",
    "        lin_model_pos.fit(behav_sum_pos, train_behav)\n",
    "\n",
    "        lin_model_neg = LinearRegression()\n",
    "        lin_model_neg.fit(behav_sum_neg, train_behav)\n",
    "\n",
    "        # 7. PREDICTION: Predict on left-out subject\n",
    "        # Extract sum scores for left-out subject\n",
    "        leftout_sum_pos = np.sum(np.multiply(all_mats[leftout], pos_mask))\n",
    "        leftout_sum_neg = np.sum(np.multiply(all_mats[leftout], neg_mask))\n",
    "        leftout_sum_pos = leftout_sum_pos.reshape(1,1)\n",
    "        leftout_sum_neg = leftout_sum_neg.reshape(1,1)\n",
    "\n",
    "        # Predict behavior for left-out subject\n",
    "        behav_pred_pos[leftout] = lin_model_pos.predict(leftout_sum_pos)\n",
    "        behav_pred_neg[leftout] = lin_model_neg.predict(leftout_sum_neg)\n",
    "\n",
    "        end = time.time()\n",
    "        minutes = (end - start) / 60\n",
    "        seconds = (end - start) % 60\n",
    "\n",
    "        print(f'This iteration took: {minutes:06.3f} minutes and {seconds:06.3f} seconds')\n",
    "\n",
    "    # 8. EVALUATION: Compute correlations between predicted and observed behavior\n",
    "    behav_pred_corr_pos = scipy.stats.pearsonr(all_behav, behav_pred_pos[:, 0])\n",
    "    behav_pred_corr_neg = scipy.stats.pearsonr(all_behav, behav_pred_neg[:, 0])\n",
    "\n",
    "    # 9. VISUALIZATION: Make a pretty figure\n",
    "    plt.figure(figsize=(10, 4))\n",
    "    plt.subplot(1, 2, 1)\n",
    "    plt.scatter(all_behav, behav_pred_pos)\n",
    "    plt.xlabel('Observed behavior')\n",
    "    plt.ylabel('Predicted behavior')\n",
    "    plt.title('Positive edges')\n",
    "    plt.subplot(1, 2, 2)\n",
    "    plt.scatter(all_behav, behav_pred_neg)\n",
    "    plt.xlabel('Observed behavior')\n",
    "    plt.ylabel('Predicted behavior')\n",
    "    plt.title('Negative edges')\n",
    "    plt.tight_layout()\n",
    "    plt.show()\n",
    "\n",
    "    return behav_pred_corr_neg, behav_pred_corr_pos\n",
    "\n",
    "threshold = 0.01\n",
    "#X_train, X_test, y_train, y_test = train_test_split(X, extrovercy, test_size=0.2, random_state=0)\n",
    "\n",
    "# compute the CPM\n",
    "cpm(X, extrovercy, threshold)"
   ]
  },
  {
   "cell_type": "code",
   "execution_count": null,
   "metadata": {},
   "outputs": [],
   "source": []
  }
 ],
 "metadata": {
  "kernelspec": {
   "display_name": "silviasenv",
   "language": "python",
   "name": "python3"
  },
  "language_info": {
   "codemirror_mode": {
    "name": "ipython",
    "version": 3
   },
   "file_extension": ".py",
   "mimetype": "text/x-python",
   "name": "python",
   "nbconvert_exporter": "python",
   "pygments_lexer": "ipython3",
   "version": "3.9.16"
  }
 },
 "nbformat": 4,
 "nbformat_minor": 2
}
