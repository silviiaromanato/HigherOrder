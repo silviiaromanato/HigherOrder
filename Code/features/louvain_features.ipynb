{
 "cells": [
  {
   "cell_type": "markdown",
   "metadata": {},
   "source": [
    "# **Correlation of communities detected in emotions and features exctracted**\n",
    "\n",
    "We will:\n",
    "1. import the features extracted correlation matrix\n",
    "2. import the emotions correlation matrix\n",
    "3. import the communities detected from the emotion matrix.\n",
    "4. compute the communities adopting Louvain algorithm on the features correlation matrix.\n",
    "5. compare the communities detected in the two matrices."
   ]
  },
  {
   "cell_type": "markdown",
   "metadata": {},
   "source": [
    "## 1 - Import the features extracted correlation matrix"
   ]
  },
  {
   "cell_type": "code",
   "execution_count": null,
   "metadata": {},
   "outputs": [],
   "source": []
  }
 ],
 "metadata": {
  "language_info": {
   "name": "python"
  }
 },
 "nbformat": 4,
 "nbformat_minor": 2
}
